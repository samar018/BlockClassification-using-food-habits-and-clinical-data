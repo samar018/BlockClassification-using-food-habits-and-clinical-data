{
  "nbformat": 4,
  "nbformat_minor": 0,
  "metadata": {
    "colab": {
      "provenance": [],
      "authorship_tag": "ABX9TyMHDG71OGmRHbCq86wPP1+M",
      "include_colab_link": true
    },
    "kernelspec": {
      "name": "python3",
      "display_name": "Python 3"
    },
    "language_info": {
      "name": "python"
    }
  },
  "cells": [
    {
      "cell_type": "markdown",
      "metadata": {
        "id": "view-in-github",
        "colab_type": "text"
      },
      "source": [
        "<a href=\"https://colab.research.google.com/github/samar018/BlockClassification-using-food-habits-and-clinical-data/blob/main/Randomforestclassifier.ipynb\" target=\"_parent\"><img src=\"https://colab.research.google.com/assets/colab-badge.svg\" alt=\"Open In Colab\"/></a>"
      ]
    },
    {
      "cell_type": "code",
      "execution_count": null,
      "metadata": {
        "id": "JwARflpMgN0N"
      },
      "outputs": [],
      "source": [
        "import matplotlib.pyplot as plt\n",
        "import pandas as pd\n",
        "from sklearn import tree"
      ]
    },
    {
      "cell_type": "code",
      "source": [
        "dataset = pd.read_csv('datafinal.csv')\n",
        "X = dataset.iloc[:, 0:-1].values\n",
        "y = dataset.iloc[:,26].values"
      ],
      "metadata": {
        "id": "rXc8diQxgUxp"
      },
      "execution_count": null,
      "outputs": []
    },
    {
      "cell_type": "code",
      "source": [
        "\n",
        "from sklearn.preprocessing import Imputer\n",
        "imputer = Imputer(missing_values = 'NaN', strategy = 'median', axis = 0)\n",
        "imputer = imputer.fit(X[:, 1:-1])\n",
        "X[:, 1:-1] = imputer.transform(X[:, 1:-1])"
      ],
      "metadata": {
        "id": "hOjKJF7WgWr2"
      },
      "execution_count": null,
      "outputs": []
    },
    {
      "cell_type": "code",
      "source": [
        "from sklearn.cross_validation import train_test_split\n",
        "from sklearn.model_selection import train_test_split\n",
        "X_train, X_test, y_train, y_test = train_test_split(X, y, test_size = 0.30,random_state=10)\n"
      ],
      "metadata": {
        "id": "LfXGkhXmgYSQ"
      },
      "execution_count": null,
      "outputs": []
    },
    {
      "cell_type": "code",
      "source": [
        "from sklearn.ensemble import RandomForestClassifier\n",
        "rf=RandomForestClassifier(n_estimators=150, criterion='entropy', \n",
        "    max_depth=None, min_samples_split=2, min_samples_leaf=1, max_features='auto')"
      ],
      "metadata": {
        "id": "N3YNfq12gZ-R"
      },
      "execution_count": null,
      "outputs": []
    },
    {
      "cell_type": "code",
      "source": [
        "rf.fit(X_train,y_train)\n",
        "\n"
      ],
      "metadata": {
        "id": "03SKMc7Dgb_v"
      },
      "execution_count": null,
      "outputs": []
    },
    {
      "cell_type": "code",
      "source": [
        "from sklearn.metrics import confusion_matrix\n",
        "from sklearn.metrics import accuracy_score\n",
        "from sklearn.metrics import classification_report\n",
        "from sklearn.cross_validation import cross_val_score, cross_val_predict\n",
        "from sklearn.metrics import accuracy_score \n",
        "\n",
        "\n",
        "#-------------------Training Data Evaluation----------------\n",
        "predict_train_data=rf.predict(X_train)\n",
        "\n",
        "print(confusion_matrix(y_train,predict_train_data))  \n",
        "print(classification_report(y_train,predict_train_data))\n",
        "\n",
        "print(accuracy_score(y_train,predict_train_data))"
      ],
      "metadata": {
        "id": "sGWcW6Y7giVY"
      },
      "execution_count": null,
      "outputs": []
    },
    {
      "cell_type": "code",
      "source": [
        "\n",
        "##---------------//-------------------------------------\n",
        "\n",
        "##--------------------test data evaluation--------------\n",
        "y_pred = rf.predict(X_test)\n",
        "\n",
        "print(confusion_matrix(y_test,y_pred))  \n",
        "print(classification_report(y_test,y_pred))\n",
        "\n",
        "print(accuracy_score(y_test,y_pred))\n"
      ],
      "metadata": {
        "id": "yqw5VpRxglCu"
      },
      "execution_count": null,
      "outputs": []
    },
    {
      "cell_type": "code",
      "source": [
        "\n",
        "estimator_nonlimited = rf.estimators_[5]\n",
        "\n",
        "\n",
        "export_graphviz(estimator_nonlimited, out_file='tree_nonlimited.dot', feature_names = dataset.feature_names,\n",
        "                class_names = dataset.target_names,\n",
        "                rounded = True, proportion = False, precision = 2, filled = True)"
      ],
      "metadata": {
        "id": "gQoMC4UKgmie"
      },
      "execution_count": null,
      "outputs": []
    }
  ]
}