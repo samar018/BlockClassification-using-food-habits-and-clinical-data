{
  "nbformat": 4,
  "nbformat_minor": 0,
  "metadata": {
    "colab": {
      "provenance": [],
      "authorship_tag": "ABX9TyMk/aGDbRSEhXRZ0csHdTy2",
      "include_colab_link": true
    },
    "kernelspec": {
      "name": "python3",
      "display_name": "Python 3"
    },
    "language_info": {
      "name": "python"
    }
  },
  "cells": [
    {
      "cell_type": "markdown",
      "metadata": {
        "id": "view-in-github",
        "colab_type": "text"
      },
      "source": [
        "<a href=\"https://colab.research.google.com/github/samar018/BlockClassification-using-food-habits-and-clinical-data/blob/main/SVMclassifier.ipynb\" target=\"_parent\"><img src=\"https://colab.research.google.com/assets/colab-badge.svg\" alt=\"Open In Colab\"/></a>"
      ]
    },
    {
      "cell_type": "code",
      "execution_count": null,
      "metadata": {
        "id": "9cvzArP0fi-a"
      },
      "outputs": [],
      "source": [
        "import pandas as pd  \n",
        "import numpy as np  \n",
        "import matplotlib.pyplot as plt  "
      ]
    },
    {
      "cell_type": "code",
      "source": [
        "dataset = pd.read_csv('OurPatientData209.csv')\n",
        "X = dataset.iloc[:, 1:-2].values\n",
        "y = dataset.iloc[:,33].values"
      ],
      "metadata": {
        "id": "S78vXsNnfjtg"
      },
      "execution_count": null,
      "outputs": []
    },
    {
      "cell_type": "code",
      "source": [
        "from sklearn.preprocessing import Imputer\n",
        "imputer = Imputer(missing_values = 'NaN', strategy = 'median', axis = 0)\n",
        "imputer = imputer.fit(X[:, 1:-1])\n",
        "X[:, 1:-1] = imputer.transform(X[:, 1:-1])"
      ],
      "metadata": {
        "id": "32hQ572yflSH"
      },
      "execution_count": null,
      "outputs": []
    },
    {
      "cell_type": "code",
      "source": [
        "from sklearn.model_selection import train_test_split  \n",
        "X_train, X_test, y_train, y_test = train_test_split(X, y, test_size = 0.30,random_state=42)  \n"
      ],
      "metadata": {
        "id": "zvWv9Edufm5_"
      },
      "execution_count": null,
      "outputs": []
    },
    {
      "cell_type": "code",
      "source": [
        "from sklearn.svm import SVC  \n",
        "svclassifier = SVC(C=2, cache_size=100, class_weight='balanced', coef0=1.0,\n",
        "    decision_function_shape='ovr', degree=3, gamma='auto', kernel='poly',\n",
        "    max_iter=-1, probability=False, random_state=100, shrinking=True,\n",
        "    tol=0.001, verbose=False)  "
      ],
      "metadata": {
        "id": "6Ar4kPJZfozF"
      },
      "execution_count": null,
      "outputs": []
    },
    {
      "cell_type": "code",
      "source": [
        "svclassifier.fit(X_train, y_train) \n",
        "y_pred = svclassifier.predict(X_test)  \n"
      ],
      "metadata": {
        "id": "6gwACFeZfs7O"
      },
      "execution_count": null,
      "outputs": []
    },
    {
      "cell_type": "code",
      "source": [
        "from sklearn.metrics import classification_report, confusion_matrix  \n",
        "print(confusion_matrix(y_test,y_pred))  \n",
        "print(classification_report(y_test,y_pred))\n",
        "from sklearn.metrics import accuracy_score\n",
        "print(accuracy_score(y_test,y_pred))"
      ],
      "metadata": {
        "id": "cZjnKskXfvBO"
      },
      "execution_count": null,
      "outputs": []
    }
  ]
}