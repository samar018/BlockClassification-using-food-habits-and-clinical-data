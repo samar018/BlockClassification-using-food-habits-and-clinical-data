{
  "cells": [
    {
      "cell_type": "markdown",
      "metadata": {
        "id": "view-in-github",
        "colab_type": "text"
      },
      "source": [
        "<a href=\"https://colab.research.google.com/github/samar018/BlockClassification-using-food-habits-and-clinical-data/blob/main/DecisionTreewithCrossValidationandROC.ipynb\" target=\"_parent\"><img src=\"https://colab.research.google.com/assets/colab-badge.svg\" alt=\"Open In Colab\"/></a>"
      ]
    },
    {
      "cell_type": "code",
      "execution_count": null,
      "metadata": {
        "id": "J35YVtCmQNTB",
        "outputId": "0f847842-712b-4c93-8ccc-2c75bfdb12be"
      },
      "outputs": [
        {
          "name": "stdout",
          "output_type": "stream",
          "text": [
            "(301, 24)\n",
            "(301,)\n",
            "False\n",
            "       Age      Sex  Work  Smoking  chewingtobacoo     BpSys    BpDias  HTN  \\\n",
            "0       45        1     0        2               0       130        90    1   \n",
            "1       75        1     2        4               1       120        80    0   \n",
            "2       50        1     0        4               0       130        90    1   \n",
            "3       45        1     0        0               0       140        80    1   \n",
            "4       35        0     1        4               1       100        80    0   \n",
            "\n",
            "   Pulse  Diabetes  ...     HR    P-R  QRS  Interpol  AxisDev.  T-wave  \\\n",
            "0    100         3  ...   82.0  180.0   91         0         0       1   \n",
            "1     70         0  ...   73.0  152.0   88         0         1       0   \n",
            "2     56         0  ...   92.0  187.0  125         1         0       1   \n",
            "3     78         0  ...   73.0  190.0   92         0         0       0   \n",
            "4    100         0  ...  142.0  160.0  140         1         0       0   \n",
            "\n",
            "   ST Slope  PR irregular  QRS Dropped  Block  \n",
            "0         0             0            0      0  \n",
            "1         0             0            0      0  \n",
            "2         2             0            0      4  \n",
            "3         0             0            0      0  \n",
            "4         2             0            0      5  \n",
            "\n",
            "[5 rows x 27 columns]\n",
            "[0 0 4 0 5 0 5 0 0 4 4 4 0 4 4 5 4 1 4 0 4 0 5 1 0 4 0 0 1 4 4 5 4 4 4 0 5\n",
            " 1 4 0 4 4 0 0 5 0 4 0 1 0 5 0 0 0 0 0 1 0 1 1 0 0 0 1 0 4 0 0 4 4 5 1 1 1\n",
            " 4 1 5 0 0 1 5 5 1 5 0 0 0 0 1 5 1 0 5 0 5 1 4 1 0 5 5 5 0 4 5 0 0 0 1 0 0\n",
            " 0 1 0 4 0 0 1 4 1 4 0 4 0 0 5 1 0 0 1 5 0 4 5 4 5 1 4 4 1 1 1 5 1 4 4 1 1\n",
            " 1 4 4 4 1 5 5 4 1 5 1 4 4 4 1 5 4 1 1 1 1 1 1 1 5 4 5 1 5 5 4 4 1 4 5 5 4\n",
            " 5 5 5 5 4 4 5 5 5 5 5 5 4 4 4 4 1 1 1 1 1 1 1 2 2 2 2 2 2 2 2 2 2 2 2 2 2\n",
            " 2 2 2 2 2 2 2 2 2 2 2 2 2 2 2 2 2 2 2 2 2 2 2 2 2 2 2 2 2 2 2 2 3 3 3 3 3\n",
            " 3 3 3 3 3 3 3 3 3 3 3 3 3 3 3 3 3 3 3 3 3 3 3 3 3 3 3 3 3 3 3 3 3 3 3 3 3\n",
            " 3 3 3 3 3]\n",
            "[  1.   0.   1.   0. 110.  80.   0.  89.   0.   5.   1.   1.   0.   1.\n",
            "   1.   2.  80. 136.  94.   0.   1.   0.   0.   0.]\n"
          ]
        }
      ],
      "source": [
        "\"\"\" DATA Import and Test\"\"\"\n",
        "\n",
        "import pandas as pd\n",
        "dataset = pd.read_csv('HeartBlock.csv')\n",
        "X = dataset.iloc[:, 1:-2].values\n",
        "y = dataset.iloc[:,26].values\n",
        "\n",
        "\n",
        "\n",
        "print(X.shape)\n",
        "print(y.shape)\n",
        "print(X.shape[0] != y.shape[0])\n",
        "\n",
        "\n",
        "print(dataset.head())\n",
        "print(y)\n",
        "print(X[5])"
      ]
    },
    {
      "cell_type": "code",
      "execution_count": null,
      "metadata": {
        "id": "3yd1eXEEQNTF"
      },
      "outputs": [],
      "source": [
        "from sklearn.impute import SimpleImputer\n",
        "import numpy as np\n",
        "\n",
        "\n",
        "simpleImputer = SimpleImputer(missing_values = np.nan, strategy = 'median')\n",
        "simpleImputer= simpleImputer.fit(X[:, 1:-1])\n",
        "X[:, 1:-1] = simpleImputer.transform(X[:, 1:-1])"
      ]
    },
    {
      "cell_type": "code",
      "execution_count": null,
      "metadata": {
        "id": "Oo6EwLJDQNTF",
        "outputId": "ab94ba9d-5c48-481b-97e3-2bb579db2815"
      },
      "outputs": [
        {
          "name": "stdout",
          "output_type": "stream",
          "text": [
            "[  1.    0.    4.    0.   80.   60.    0.  110.    0.    3.    1.    0.\n",
            "   1.    1.    0.    3.   78.  161.5  98.    0.    0.    2.    0.    1. ]\n"
          ]
        }
      ],
      "source": [
        "print(X[22])"
      ]
    },
    {
      "cell_type": "code",
      "execution_count": null,
      "metadata": {
        "id": "JsboCKnUQNTG"
      },
      "outputs": [],
      "source": [
        "\n",
        "from sklearn.preprocessing import label_binarize\n",
        "y = label_binarize(y, classes=[0, 1, 2,3,4,5])\n",
        "n_classes = y.shape[1]"
      ]
    },
    {
      "cell_type": "code",
      "execution_count": null,
      "metadata": {
        "id": "CEAntvF9QNTG",
        "outputId": "9545218c-55ae-40a6-dc9c-344da93e79f7"
      },
      "outputs": [
        {
          "name": "stdout",
          "output_type": "stream",
          "text": [
            "[[1 0 0 0 0 0]\n",
            " [1 0 0 0 0 0]\n",
            " [0 0 0 0 1 0]\n",
            " ...\n",
            " [0 0 0 1 0 0]\n",
            " [0 0 0 1 0 0]\n",
            " [0 0 0 1 0 0]]\n",
            "6\n"
          ]
        }
      ],
      "source": [
        "print(y)\n",
        "print(n_classes)"
      ]
    },
    {
      "cell_type": "code",
      "execution_count": null,
      "metadata": {
        "id": "E5GJGzmqQNTH",
        "outputId": "7db4e3da-b120-4fea-862c-c7e5f6f6ebac"
      },
      "outputs": [
        {
          "name": "stdout",
          "output_type": "stream",
          "text": [
            "(301, 4824)\n"
          ]
        }
      ],
      "source": [
        "\n",
        "# Add noisy features to make the problem harder\n",
        "random_state = np.random.RandomState(0)\n",
        "n_samples, n_features = X.shape\n",
        "X = np.c_[X, random_state.randn(n_samples, 200 * n_features)]\n",
        "\n",
        "print(X.shape)"
      ]
    },
    {
      "cell_type": "code",
      "execution_count": null,
      "metadata": {
        "id": "odww6tO_QNTI"
      },
      "outputs": [],
      "source": [
        "from sklearn.tree import DecisionTreeClassifier\n",
        "classifier = ( DecisionTreeClassifier(criterion='gini', \n",
        "     splitter='best', max_depth=10, min_samples_split=80, min_samples_leaf=1,\n",
        "     max_features=None, random_state=random_state ,max_leaf_nodes=5,class_weight=None))\n"
      ]
    },
    {
      "cell_type": "code",
      "execution_count": null,
      "metadata": {
        "id": "o1mdkltaQNTI"
      },
      "outputs": [],
      "source": [
        "from sklearn.model_selection  import cross_val_predict\n",
        "'''using cross validation'''\n",
        "y_score_train = cross_val_predict(classifier, X, y, cv=10)"
      ]
    },
    {
      "cell_type": "code",
      "execution_count": null,
      "metadata": {
        "id": "JOwUQTpxQNTI",
        "outputId": "da856e12-2ad9-4a34-a733-c05b6f1ca483"
      },
      "outputs": [
        {
          "name": "stdout",
          "output_type": "stream",
          "text": [
            "[[1 0 0 0 0 0]\n",
            " [1 0 0 0 0 0]\n",
            " [0 0 0 0 0 1]\n",
            " ...\n",
            " [1 0 0 0 0 0]\n",
            " [1 0 0 0 0 0]\n",
            " [0 1 0 0 0 0]]\n"
          ]
        }
      ],
      "source": [
        "print(y_score_train)"
      ]
    },
    {
      "cell_type": "code",
      "execution_count": null,
      "metadata": {
        "id": "tdKLnkMnQNTJ",
        "outputId": "4de293e9-98ae-4b3f-a526-293915643aaf"
      },
      "outputs": [
        {
          "name": "stdout",
          "output_type": "stream",
          "text": [
            "------------------- Data Evaluation----------------\n",
            "[[51  0  0  4  1  0]\n",
            " [ 0 52  0  1  0  0]\n",
            " [ 0  0 44  0  2  0]\n",
            " [30 10  0  0  7  0]\n",
            " [11  3  1  0 33  6]\n",
            " [ 5  5  2  0 15 18]]\n"
          ]
        }
      ],
      "source": [
        "from sklearn.metrics import confusion_matrix\n",
        "\n",
        "print(\"------------------- Data Evaluation----------------\")\n",
        "print(confusion_matrix(y.argmax(axis=1),y_score_train.argmax(axis=1)))"
      ]
    },
    {
      "cell_type": "code",
      "execution_count": null,
      "metadata": {
        "scrolled": true,
        "id": "GCAANU8_QNTK",
        "outputId": "5e520233-ab6f-4790-bdc9-e1ab3abbc0ab"
      },
      "outputs": [
        {
          "name": "stdout",
          "output_type": "stream",
          "text": [
            "              precision    recall  f1-score   support\n",
            "\n",
            "           0       0.61      0.91      0.73        56\n",
            "           1       0.74      0.98      0.85        53\n",
            "           2       0.94      0.96      0.95        46\n",
            "           3       0.00      0.00      0.00        47\n",
            "           4       0.57      0.61      0.59        54\n",
            "           5       0.75      0.40      0.52        45\n",
            "\n",
            "   micro avg       0.69      0.66      0.67       301\n",
            "   macro avg       0.60      0.64      0.61       301\n",
            "weighted avg       0.60      0.66      0.61       301\n",
            " samples avg       0.66      0.66      0.66       301\n",
            "\n"
          ]
        },
        {
          "name": "stderr",
          "output_type": "stream",
          "text": [
            "/home/god/softwares/miniconda3/lib/python3.7/site-packages/sklearn/metrics/classification.py:1437: UndefinedMetricWarning: Precision and F-score are ill-defined and being set to 0.0 in samples with no predicted labels.\n",
            "  'precision', 'predicted', average, warn_for)\n"
          ]
        }
      ],
      "source": [
        "from sklearn.metrics import classification_report\n",
        "print(classification_report(y,y_score_train))\n"
      ]
    },
    {
      "cell_type": "code",
      "execution_count": null,
      "metadata": {
        "id": "kcpYljGeQNTK",
        "outputId": "48e9b191-13e7-4614-8016-4ea4cfd1bae3"
      },
      "outputs": [
        {
          "name": "stdout",
          "output_type": "stream",
          "text": [
            "0.6578073089700996\n"
          ]
        }
      ],
      "source": [
        "from sklearn.metrics import accuracy_score\n",
        "print(accuracy_score(y,y_score_train))\n"
      ]
    },
    {
      "cell_type": "code",
      "execution_count": null,
      "metadata": {
        "id": "QQN08l-wQNTL"
      },
      "outputs": [],
      "source": [
        "from sklearn.metrics import roc_curve, auc\n",
        "\n",
        "fpr = dict()\n",
        "tpr = dict()\n",
        "roc_auc = dict()\n",
        "for i in range(n_classes):\n",
        "    fpr[i], tpr[i], _ = roc_curve(y[:, i], y_score_train[:, i])\n",
        "    roc_auc[i] = auc(fpr[i], tpr[i])\n",
        "       \n",
        "# Compute micro-average ROC curve and ROC area\n",
        "fpr[\"micro\"], tpr[\"micro\"], _ = roc_curve(y.ravel(), y_score_train.ravel())\n",
        "roc_auc[\"micro\"] = auc(fpr[\"micro\"], tpr[\"micro\"])"
      ]
    },
    {
      "cell_type": "code",
      "execution_count": null,
      "metadata": {
        "id": "vdjSnq5dQNTN",
        "outputId": "5b630741-4d4b-4f8d-ba92-c44c6b8771bc"
      },
      "outputs": [
        {
          "data": {
            "text/plain": [
              "<Figure size 640x480 with 1 Axes>"
            ]
          },
          "metadata": {},
          "output_type": "display_data"
        }
      ],
      "source": [
        "import matplotlib.pyplot as plt\n",
        "plt.figure()\n",
        "lw = 5\n",
        "plt.plot(fpr[5], tpr[5], color='darkorange',\n",
        "         lw=lw, label='ROC curve (area = %0.2f)' % roc_auc[2])\n",
        "plt.plot([0, 1], [0, 1], color='navy', lw=lw, linestyle='--')\n",
        "plt.xlim([0.0, 1.0])\n",
        "plt.ylim([0.0, 1.05])\n",
        "plt.xlabel('False Positive Rate')\n",
        "plt.ylabel('True Positive Rate')\n",
        "plt.title('Receiver operating characteristic example')\n",
        "plt.legend(loc=\"lower right\")\n",
        "plt.show()\n",
        "\n"
      ]
    },
    {
      "cell_type": "code",
      "execution_count": null,
      "metadata": {
        "id": "SplJs68SQNTO",
        "outputId": "c0108a97-7f14-46b5-bce0-6c85d39c1127"
      },
      "outputs": [
        {
          "data": {
            "image/png": "[encoded data removed]",
            "text/plain": [
              "<Figure size 432x288 with 1 Axes>"
            ]
          },
          "metadata": {
            "needs_background": "light"
          },
          "output_type": "display_data"
        }
      ],
      "source": [
        "\n",
        "\n",
        "\n",
        "# Compute macro-average ROC curve and ROC area\n",
        "\n",
        "# First aggregate all false positive rates\n",
        "all_fpr = np.unique(np.concatenate([fpr[i] for i in range(n_classes)]))\n",
        "\n",
        "from scipy import interp\n",
        "\n",
        "import itertools as it\n",
        "\n",
        "# Then interpolate all ROC curves at this points\n",
        "mean_tpr = np.zeros_like(all_fpr)\n",
        "for i in range(n_classes):\n",
        "    mean_tpr += interp(all_fpr, fpr[i], tpr[i])\n",
        "\n",
        "# Finally average it and compute AUC\n",
        "mean_tpr /= n_classes\n",
        "\n",
        "fpr[\"macro\"] = all_fpr\n",
        "tpr[\"macro\"] = mean_tpr\n",
        "roc_auc[\"macro\"] = auc(fpr[\"macro\"], tpr[\"macro\"])\n",
        "\n",
        "# Plot all ROC curves\n",
        "plt.figure()\n",
        "plt.plot(fpr[\"micro\"], tpr[\"micro\"],\n",
        "         label='micro-average ROC curve (area = {0:0.2f})'\n",
        "               ''.format(roc_auc[\"micro\"]),\n",
        "         color='deeppink', linestyle=':', linewidth=4)\n",
        "\n",
        "plt.plot(fpr[\"macro\"], tpr[\"macro\"],\n",
        "         label='macro-average ROC curve (area = {0:0.2f})'\n",
        "               ''.format(roc_auc[\"macro\"]),\n",
        "         color='navy', linestyle=':', linewidth=4)\n",
        "\n",
        "colors = it.cycle(['aqua', 'darkorange', 'cornflowerblue','red','green','yellow'])\n",
        "for i, color in zip(range(n_classes), colors):\n",
        "    plt.plot(fpr[i], tpr[i], color=color, lw=lw,\n",
        "             label='ROC curve of class {0} (area = {1:0.2f})'\n",
        "             ''.format(i, roc_auc[i]))\n",
        "\n",
        "plt.plot([0, 1], [0, 1], 'k--', lw=lw)\n",
        "plt.xlim([0.0, 1.0])\n",
        "plt.ylim([0.0, 1.05])\n",
        "plt.xlabel('False Positive Rate')\n",
        "plt.ylabel('True Positive Rate')\n",
        "plt.title('Some extension of Receiver operating characteristic to multi-class')\n",
        "plt.legend(loc=\"lower right\")\n",
        "plt.show()"
      ]
    },
    {
      "cell_type": "code",
      "execution_count": null,
      "metadata": {
        "id": "6glVegoiQNTP"
      },
      "outputs": [],
      "source": []
    }
  ],
  "metadata": {
    "kernelspec": {
      "display_name": "Python 3",
      "language": "python",
      "name": "python3"
    },
    "language_info": {
      "codemirror_mode": {
        "name": "ipython",
        "version": 3
      },
      "file_extension": ".py",
      "mimetype": "text/x-python",
      "name": "python",
      "nbconvert_exporter": "python",
      "pygments_lexer": "ipython3",
      "version": "3.7.3"
    },
    "colab": {
      "provenance": [],
      "include_colab_link": true
    }
  },
  "nbformat": 4,
  "nbformat_minor": 0
}