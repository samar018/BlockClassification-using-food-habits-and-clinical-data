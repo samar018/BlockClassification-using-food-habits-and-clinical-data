{
  "nbformat": 4,
  "nbformat_minor": 0,
  "metadata": {
    "colab": {
      "provenance": [],
      "authorship_tag": "ABX9TyOBO32k8fpzt3TT5RZqrJle",
      "include_colab_link": true
    },
    "kernelspec": {
      "name": "python3",
      "display_name": "Python 3"
    },
    "language_info": {
      "name": "python"
    }
  },
  "cells": [
    {
      "cell_type": "markdown",
      "metadata": {
        "id": "view-in-github",
        "colab_type": "text"
      },
      "source": [
        "<a href=\"https://colab.research.google.com/github/samar018/BlockClassification-using-food-habits-and-clinical-data/blob/main/DecisiontreeUsingsplitingdataand_ROC.ipynb\" target=\"_parent\"><img src=\"https://colab.research.google.com/assets/colab-badge.svg\" alt=\"Open In Colab\"/></a>"
      ]
    },
    {
      "cell_type": "code",
      "execution_count": null,
      "metadata": {
        "id": "QjBZoYmObIH1"
      },
      "outputs": [],
      "source": [
        "from sklearn.preprocessing import label_binarize\n",
        "from sklearn.tree import DecisionTreeClassifier\n",
        "from scipy import interp\n",
        "\n",
        "import itertools as it\n",
        "import matplotlib.pyplot as plt\n",
        "import numpy as np\n",
        "import pandas as pd\n",
        "from sklearn.model_selection  import cross_val_score, cross_val_predict,train_test_split\n",
        "from sklearn.impute import SimpleImputer\n",
        "\n",
        "\n",
        "from sklearn.metrics import roc_curve, auc,classification_report, confusion_matrix,accuracy_score\n"
      ]
    },
    {
      "cell_type": "code",
      "source": [
        "\n",
        "# Import some data to play with\n",
        "\n",
        "dataset = pd.read_csv('/home/god/Downloads/New folder (3)/Final Documnets/Final Documnets/Code/DataSet/datafinal.csv')\n",
        "X = dataset.iloc[:, 1:-2].values\n",
        "y = dataset.iloc[:,26].values\n",
        "\n",
        "print(X.shape)\n",
        "print(y.shape)\n",
        "print(X.shape[0] != y.shape[0])\n",
        "#X=np.matrix(dataset.iloc[:, 1:-2].values)\n",
        "#\n",
        "#y=np.matrix(dataset.iloc[:, 1:-2].values)\n",
        "\n",
        "simpleImputer = SimpleImputer(missing_values = np.nan, strategy = 'median')\n",
        "simpleImputer= simpleImputer.fit(X[:, 1:-1])\n",
        "X[:, 1:-1] = simpleImputer.transform(X[:, 1:-1]"
      ],
      "metadata": {
        "id": "rYaA-4nAbStR"
      },
      "execution_count": null,
      "outputs": []
    },
    {
      "cell_type": "code",
      "source": [
        "\n",
        "y = label_binarize(y, classes=[0, 1, 2,3,4,5])\n",
        "n_classes = y.shape[1]"
      ],
      "metadata": {
        "id": "DAazqPH0bYXK"
      },
      "execution_count": null,
      "outputs": []
    },
    {
      "cell_type": "code",
      "source": [
        "\n",
        "# Add noisy features to make the problem harder\n",
        "random_state = np.random.RandomState(0)\n",
        "n_samples, n_features = X.shape\n",
        "X = np.c_[X, random_state.randn(n_samples, 200 * n_features)]"
      ],
      "metadata": {
        "id": "za5qRwJQbZ3S"
      },
      "execution_count": null,
      "outputs": []
    },
    {
      "cell_type": "code",
      "source": [
        "classifier = ( DecisionTreeClassifier(criterion='gini', \n",
        "     splitter='best', max_depth=3, min_samples_split=60, min_samples_leaf=1,\n",
        "     max_features=None, random_state=random_state ,max_leaf_nodes=5,class_weight=None))\n"
      ],
      "metadata": {
        "id": "2YBSGe3gbbwy"
      },
      "execution_count": null,
      "outputs": []
    },
    {
      "cell_type": "code",
      "source": [
        "\"\"\"using spliting \"\"\"\n",
        "#\n",
        "\n",
        "# shuffle and split training and test sets\n",
        "X_train, X_test, y_train, y_test = train_test_split(X, y, test_size=.30, random_state=random_state)"
      ],
      "metadata": {
        "id": "Xv-wFq1fbddp"
      },
      "execution_count": null,
      "outputs": []
    },
    {
      "cell_type": "code",
      "source": [
        "\n",
        "#x_train,X_test,y_train,y_test=train_test_split(np.transpose(X),np.transpose(y), test_size=0.3,random_state=random_state)\n",
        "\n",
        "y_score_tests = classifier.fit(X_train, y_train).predict(X_test)\n",
        "y_score_train=classifier.fit(X_train, y_train).predict(X_train)\n"
      ],
      "metadata": {
        "id": "-VM-2doWbfMu"
      },
      "execution_count": null,
      "outputs": []
    },
    {
      "cell_type": "code",
      "source": [
        "\n",
        "print(\"-------------------Training Data Evaluation----------------\")\n",
        "print(confusion_matrix(y_train.argmax(axis=1),y_score_train.argmax(axis=1)))\n",
        "print(classification_report(y_train,y_score_train))\n",
        "print(accuracy_score(y_train,y_score_train))"
      ],
      "metadata": {
        "id": "CgBAQzqYbhgk"
      },
      "execution_count": null,
      "outputs": []
    },
    {
      "cell_type": "code",
      "source": [
        "print(\"---------------/Test Data Evaluation/-------------------------------------\")\n",
        "\n",
        "print(confusion_matrix(y_test.argmax(axis=1),y_score_tests.argmax(axis=1)))\n",
        "\n",
        "print(classification_report(y_test,y_score_tests))\n",
        "print(accuracy_score(y_test,y_score_tests))\n"
      ],
      "metadata": {
        "id": "aMtx31PWbjGe"
      },
      "execution_count": null,
      "outputs": []
    },
    {
      "cell_type": "code",
      "source": [
        "\n",
        "fpr = dict()\n",
        "tpr = dict()\n",
        "roc_auc = dict()\n",
        "for i in range(n_classes):\n",
        "    fpr[i], tpr[i], _ = roc_curve(y_test[:, i], y_score_tests[:, i])\n",
        "    roc_auc[i] = auc(fpr[i], tpr[i])\n",
        "\n",
        "# Compute micro-average ROC curve and ROC area\n",
        "fpr[\"micro\"], tpr[\"micro\"], _ = roc_curve(y_test.ravel(), y_score_tests.ravel())\n",
        "roc_auc[\"micro\"] = auc(fpr[\"micro\"], tpr[\"micro\"])\n",
        "\n",
        "#ROC curve for a specific class here for the class 2\n",
        "#print(roc_auc[2])\n"
      ],
      "metadata": {
        "id": "l79_tMk2bktU"
      },
      "execution_count": null,
      "outputs": []
    },
    {
      "cell_type": "code",
      "source": [
        "\n",
        "plt.figure()\n",
        "lw = 5\n",
        "plt.plot(fpr[5], tpr[5], color='darkorange',\n",
        "         lw=lw, label='ROC curve (area = %0.2f)' % roc_auc[2])\n",
        "plt.plot([0, 1], [0, 1], color='navy', lw=lw, linestyle='--')\n",
        "plt.xlim([0.0, 1.0])\n",
        "plt.ylim([0.0, 1.05])\n",
        "plt.xlabel('False Positive Rate')\n",
        "plt.ylabel('True Positive Rate')\n",
        "plt.title('Receiver operating characteristic example')\n",
        "plt.legend(loc=\"lower right\")\n",
        "plt.show()"
      ],
      "metadata": {
        "id": "ENDnnFKjbmIl"
      },
      "execution_count": null,
      "outputs": []
    },
    {
      "cell_type": "code",
      "source": [
        "\n",
        "# Compute macro-average ROC curve and ROC area\n",
        "\n",
        "# First aggregate all false positive rates\n",
        "all_fpr = np.unique(np.concatenate([fpr[i] for i in range(n_classes)]))\n",
        "\n",
        "# Then interpolate all ROC curves at this points\n",
        "mean_tpr = np.zeros_like(all_fpr)\n",
        "for i in range(n_classes):\n",
        "    mean_tpr += interp(all_fpr, fpr[i], tpr[i])\n",
        "\n",
        "# Finally average it and compute AUC\n",
        "mean_tpr /= n_classes\n",
        "\n",
        "fpr[\"macro\"] = all_fpr\n",
        "tpr[\"macro\"] = mean_tpr\n",
        "roc_auc[\"macro\"] = auc(fpr[\"macro\"], tpr[\"macro\"])\n",
        "\n",
        "# Plot all ROC curves\n",
        "plt.figure()\n",
        "plt.plot(fpr[\"micro\"], tpr[\"micro\"],\n",
        "         label='micro-average ROC curve (area = {0:0.2f})'\n",
        "               ''.format(roc_auc[\"micro\"]),\n",
        "         color='deeppink', linestyle=':', linewidth=4)\n",
        "\n",
        "plt.plot(fpr[\"macro\"], tpr[\"macro\"],\n",
        "         label='macro-average ROC curve (area = {0:0.2f})'\n",
        "               ''.format(roc_auc[\"macro\"]),\n",
        "         color='navy', linestyle=':', linewidth=4)\n",
        "\n",
        "colors = it.cycle(['aqua', 'darkorange', 'cornflowerblue','red','green','yellow'])\n",
        "for i, color in zip(range(n_classes), colors):\n",
        "    plt.plot(fpr[i], tpr[i], color=color, lw=lw,\n",
        "             label='ROC curve of class {0} (area = {1:0.2f})'\n",
        "             ''.format(i, roc_auc[i]))\n",
        "\n",
        "plt.plot([0, 1], [0, 1], 'k--', lw=lw)\n",
        "plt.xlim([0.0, 1.0])\n",
        "plt.ylim([0.0, 1.05])\n",
        "plt.xlabel('False Positive Rate')\n",
        "plt.ylabel('True Positive Rate')\n",
        "plt.title('Some extension of Receiver operating characteristic to multi-class')\n",
        "plt.legend(loc=\"lower right\")\n",
        "plt.show()"
      ],
      "metadata": {
        "id": "Ta1VjzVjbpB0"
      },
      "execution_count": null,
      "outputs": []
    }
  ]
}