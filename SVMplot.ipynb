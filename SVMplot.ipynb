{
  "nbformat": 4,
  "nbformat_minor": 0,
  "metadata": {
    "colab": {
      "provenance": [],
      "authorship_tag": "ABX9TyMbgxMgY/VM1pQqw0cLMvxT",
      "include_colab_link": true
    },
    "kernelspec": {
      "name": "python3",
      "display_name": "Python 3"
    },
    "language_info": {
      "name": "python"
    }
  },
  "cells": [
    {
      "cell_type": "markdown",
      "metadata": {
        "id": "view-in-github",
        "colab_type": "text"
      },
      "source": [
        "<a href=\"https://colab.research.google.com/github/samar018/BlockClassification-using-food-habits-and-clinical-data/blob/main/SVMplot.ipynb\" target=\"_parent\"><img src=\"https://colab.research.google.com/assets/colab-badge.svg\" alt=\"Open In Colab\"/></a>"
      ]
    },
    {
      "cell_type": "code",
      "execution_count": null,
      "metadata": {
        "id": "S78XdRTZe-y0"
      },
      "outputs": [],
      "source": [
        "\n",
        "import pandas as pd  \n",
        "import numpy as np  \n",
        "import matplotlib.pyplot as plt  "
      ]
    },
    {
      "cell_type": "code",
      "source": [
        "\n",
        "dataset = pd.read_csv('datafinal.csv')\n",
        "X = dataset.iloc[:, 1:-2].values\n",
        "y = dataset.iloc[:,26].values\n",
        "\n"
      ],
      "metadata": {
        "id": "h-XYffWHe_rE"
      },
      "execution_count": null,
      "outputs": []
    },
    {
      "cell_type": "code",
      "source": [
        "def plotSVC(title):\n",
        "  # create a mesh to plot in\n",
        "  x_min, x_max = X[:, 1].min() — 1, X[:, 0].max() + 1\n",
        "  y_min, y_max = y[:, 1].min() — 1, X[:, 1].max() + 1\n",
        "  h = (x_max / x_min)/100\n",
        "  xx, yy = np.meshgrid(np.arange(x_min, x_max, h),\n",
        " np.arange(y_min, y_max, h))\n",
        " plt.subplot(1, 1, 1)\n",
        " Z = svc.predict(np.c_[xx.ravel(), yy.ravel()])\n",
        " Z = Z.reshape(xx.shape)\n",
        " plt.contourf(xx, yy, Z, cmap=plt.cm.Paired, alpha=0.8)\n",
        " plt.scatter(X[:, 0], X[:, 1], c=y, cmap=plt.cm.Paired)\n",
        " plt.xlabel(‘Sepal length’)\n",
        " plt.ylabel(‘Sepal width’)\n",
        " plt.xlim(xx.min(), xx.max())\n",
        " plt.title(title)\n",
        " plt.show()\n",
        " \n",
        " kernels = [‘linear’, ‘rbf’, ‘poly’]\n",
        "for kernel in kernels:\n",
        "  svc = svm.SVC(kernel=kernel).fit(X, y)\n",
        "  plotSVC(‘kernel=’ + str(kernel))"
      ],
      "metadata": {
        "id": "4utS-3fofESy"
      },
      "execution_count": null,
      "outputs": []
    }
  ]
}